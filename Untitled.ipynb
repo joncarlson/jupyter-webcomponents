{
 "cells": [
  {
   "cell_type": "code",
   "execution_count": 8,
   "id": "7feb750b",
   "metadata": {},
   "outputs": [
    {
     "data": {
      "text/html": [
       "\n",
       "<script type=\"module\">\n",
       "    import { defineCustomElements } from './webcomponents/jupyter-components/loader/index.es2017.js';\n",
       "    defineCustomElements();\n",
       "</script>\n",
       "\n",
       "<script>\n",
       "alert(\"hello world\");\n",
       "</script>\n"
      ],
      "text/plain": [
       "<IPython.core.display.HTML object>"
      ]
     },
     "metadata": {},
     "output_type": "display_data"
    }
   ],
   "source": [
    "%%html\n",
    "\n",
    "<script type=\"module\">\n",
    "    import { defineCustomElements } from './webcomponents/jupyter-components/loader/index.es2017.js';\n",
    "    defineCustomElements();\n",
    "</script>"
   ]
  },
  {
   "cell_type": "code",
   "execution_count": 9,
   "id": "5549b139",
   "metadata": {},
   "outputs": [
    {
     "data": {
      "text/html": [
       "\n",
       "<my-component first=\"Jon\" middle=\"a\" last=\"b\"></my-component>\n"
      ],
      "text/plain": [
       "<IPython.core.display.HTML object>"
      ]
     },
     "metadata": {},
     "output_type": "display_data"
    }
   ],
   "source": [
    "%%html\n",
    "\n",
    "<my-component first=\"Jon\" middle=\"a\" last=\"b\"></my-component>"
   ]
  },
  {
   "cell_type": "code",
   "execution_count": null,
   "id": "94ec9a84",
   "metadata": {},
   "outputs": [],
   "source": []
  }
 ],
 "metadata": {
  "kernelspec": {
   "display_name": "Python 3",
   "language": "python",
   "name": "python3"
  },
  "language_info": {
   "codemirror_mode": {
    "name": "ipython",
    "version": 3
   },
   "file_extension": ".py",
   "mimetype": "text/x-python",
   "name": "python",
   "nbconvert_exporter": "python",
   "pygments_lexer": "ipython3",
   "version": "3.9.2"
  }
 },
 "nbformat": 4,
 "nbformat_minor": 5
}
